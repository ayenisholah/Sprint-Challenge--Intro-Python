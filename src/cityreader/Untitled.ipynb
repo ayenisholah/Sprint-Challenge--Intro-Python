{
 "cells": [
  {
   "cell_type": "code",
   "execution_count": 69,
   "metadata": {},
   "outputs": [
    {
     "data": {
      "text/plain": [
       "[('Seattle', '47.6217', '-122.3238'),\n",
       " ('Richmond', '37.5294', '-77.4755'),\n",
       " ('Virginia Beach', '36.7335', '-76.0435'),\n",
       " ('Washington', '38.9047', '-77.0163'),\n",
       " ('Milwaukee', '43.0640', '-87.9669'),\n",
       " ('Orlando', '28.4801', '-81.3448'),\n",
       " ('Miami', '25.7840', '-80.2102'),\n",
       " ('Tampa', '27.9937', '-82.4454'),\n",
       " ('Jacksonville', '30.3322', '-81.6749'),\n",
       " ('Albuquerque', '35.1055', '-106.6476'),\n",
       " ('Fort Worth', '32.7813', '-97.3466'),\n",
       " ('McAllen', '26.2203', '-98.2457'),\n",
       " ('El Paso', '31.8478', '-106.4310'),\n",
       " ('Dallas', '32.7938', '-96.7659'),\n",
       " ('Austin', '30.3038', '-97.7545'),\n",
       " ('Houston', '29.7871', '-95.3936'),\n",
       " ('San Antonio', '29.4722', '-98.5247'),\n",
       " ('New Orleans', '30.0687', '-89.9288'),\n",
       " ('Charlotte', '35.2080', '-80.8308'),\n",
       " ('Raleigh', '35.8323', '-78.6441'),\n",
       " ('Omaha', '41.2634', '-96.0453'),\n",
       " ('Memphis', '35.1047', '-89.9773'),\n",
       " ('Nashville', '36.1714', '-86.7844'),\n",
       " ('Buffalo', '42.9016', '-78.8487'),\n",
       " ('Queens', '40.7498', '-73.7976'),\n",
       " ('New York', '40.6943', '-73.9249'),\n",
       " ('Bronx', '40.8501', '-73.8662'),\n",
       " ('Brooklyn', '40.6501', '-73.9496'),\n",
       " ('Manhattan', '40.7834', '-73.9662'),\n",
       " ('Philadelphia', '40.0076', '-75.1340'),\n",
       " ('Pittsburgh', '40.4396', '-79.9763'),\n",
       " ('Sacramento', '38.5666', '-121.4683'),\n",
       " ('Riverside', '33.9382', '-117.3949'),\n",
       " ('San Francisco', '37.7561', '-122.4429'),\n",
       " ('San Diego', '32.8312', '-117.1225'),\n",
       " ('San Jose', '37.3020', '-121.8488'),\n",
       " ('Los Angeles', '34.1140', '-118.4068'),\n",
       " ('Las Vegas', '36.2288', '-115.2603'),\n",
       " ('Denver', '39.7621', '-104.8759'),\n",
       " ('Chicago', '41.8373', '-87.6861'),\n",
       " ('Atlanta', '33.7627', '-84.4231'),\n",
       " ('Indianapolis', '39.7771', '-86.1458'),\n",
       " ('Oklahoma City', '35.4677', '-97.5138'),\n",
       " ('Phoenix', '33.5722', '-112.0891'),\n",
       " ('Tucson', '32.1558', '-110.8777'),\n",
       " ('Bridgeport', '41.1909', '-73.1958'),\n",
       " ('Hartford', '41.7661', '-72.6834'),\n",
       " ('Baltimore', '39.3051', '-76.6144'),\n",
       " ('Boston', '42.3189', '-71.0838'),\n",
       " ('Cleveland', '41.4766', '-81.6805'),\n",
       " ('Columbus', '39.9859', '-82.9852'),\n",
       " ('Cincinnati', '39.1412', '-84.5060'),\n",
       " ('Salt Lake City', '40.7774', '-111.9301'),\n",
       " ('Saint Louis', '38.6358', '-90.2451'),\n",
       " ('Kansas City', '39.1239', '-94.5541'),\n",
       " ('Minneapolis', '44.9635', '-93.2679'),\n",
       " ('Detroit', '42.3834', '-83.1024'),\n",
       " ('Providence', '41.8229', '-71.4186'),\n",
       " ('Louisville', '38.1662', '-85.6488'),\n",
       " ('Portland', '45.5372', '-122.6500')]"
      ]
     },
     "execution_count": 69,
     "metadata": {},
     "output_type": "execute_result"
    }
   ],
   "source": [
    "import csv\n",
    "cities = []\n",
    "\n",
    "\n",
    "def cityreader(cities=[]):\n",
    "    # TODO Implement the functionality to read from the 'cities.csv' file\n",
    "    # For each city record, create a new City instance and add it to the\n",
    "    # `cities` list\n",
    "\n",
    "    with open('./cities.csv') as file:\n",
    "        reader = csv.DictReader(file)\n",
    "        cities = [(city['city'], city['lat'], city['lng']) for city in reader]\n",
    "    return(cities)\n",
    "\n",
    "cityreader(cities)"
   ]
  },
  {
   "cell_type": "code",
   "execution_count": null,
   "metadata": {},
   "outputs": [],
   "source": []
  },
  {
   "cell_type": "code",
   "execution_count": null,
   "metadata": {},
   "outputs": [],
   "source": []
  },
  {
   "cell_type": "code",
   "execution_count": null,
   "metadata": {},
   "outputs": [],
   "source": []
  },
  {
   "cell_type": "code",
   "execution_count": null,
   "metadata": {},
   "outputs": [],
   "source": []
  }
 ],
 "metadata": {
  "kernelspec": {
   "display_name": "Python 3",
   "language": "python",
   "name": "python3"
  },
  "language_info": {
   "codemirror_mode": {
    "name": "ipython",
    "version": 3
   },
   "file_extension": ".py",
   "mimetype": "text/x-python",
   "name": "python",
   "nbconvert_exporter": "python",
   "pygments_lexer": "ipython3",
   "version": "3.7.3"
  }
 },
 "nbformat": 4,
 "nbformat_minor": 2
}
